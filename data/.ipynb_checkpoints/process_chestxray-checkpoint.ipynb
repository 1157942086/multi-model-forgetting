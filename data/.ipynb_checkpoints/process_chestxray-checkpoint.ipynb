{
 "cells": [
  {
   "cell_type": "code",
   "execution_count": 3,
   "metadata": {},
   "outputs": [],
   "source": [
    "import json\n",
    "import csv\n",
    "import os\n",
    "import numpy as np"
   ]
  },
  {
   "cell_type": "code",
   "execution_count": 4,
   "metadata": {},
   "outputs": [],
   "source": [
    "\n",
    "def read_csv_and_create_h5file():\n",
    "    dataset_dir = '/Users/kcyu/data/chest-xray14'\n",
    "    csvfile = 'Data_Entry_2017.csv'\n",
    "    \n",
    "    with open(os.path.join(dataset_dir, csvfile), 'rb') as f:\n",
    "        reader = csv.reader(f)\n",
    "        title = reader.next()\n",
    "        entry = []\n",
    "        for row in reader:\n",
    "            entry.append(row)\n",
    "    \n",
    "    np_entry = np.asanyarray(entry)\n",
    "    title = ['Image Index',\n",
    "             'Finding Labels',\n",
    "             'Follow-up',\n",
    "             'Patient ID',\n",
    "             'Patient Age',\n",
    "             'Patient Gender',\n",
    "             'View Position',\n",
    "             'OriginalImage-Width',\n",
    "             'OriginalImage-Height',\n",
    "             'OriginalImagePixelSpacing-x',\n",
    "             'OriginalImagePixelSpacing-y']\n",
    "    \n",
    "    h5file = h5py.File('Data_Entry_2017.h5','w')\n"
   ]
  },
  {
   "cell_type": "code",
   "execution_count": null,
   "metadata": {},
   "outputs": [],
   "source": [
    "root = os.path.join(os.expandusr('~'), 'datasets', 'chest-xray_sample')\n",
    "csvfile = 'sample_labels.csv'\n"
   ]
  }
 ],
 "metadata": {
  "kernelspec": {
   "display_name": "Python 3",
   "language": "python",
   "name": "python3"
  },
  "language_info": {
   "codemirror_mode": {
    "name": "ipython",
    "version": 3
   },
   "file_extension": ".py",
   "mimetype": "text/x-python",
   "name": "python",
   "nbconvert_exporter": "python",
   "pygments_lexer": "ipython3",
   "version": "3.6.5"
  }
 },
 "nbformat": 4,
 "nbformat_minor": 1
}
